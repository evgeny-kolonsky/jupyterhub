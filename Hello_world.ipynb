{
  "nbformat": 4,
  "nbformat_minor": 0,
  "metadata": {
    "colab": {
      "provenance": [],
      "authorship_tag": "ABX9TyPQfZ6uhpM9LX64ySKGzmVa",
      "include_colab_link": true
    },
    "kernelspec": {
      "name": "python3",
      "display_name": "Python 3"
    },
    "language_info": {
      "name": "python"
    }
  },
  "cells": [
    {
      "cell_type": "markdown",
      "metadata": {
        "id": "view-in-github",
        "colab_type": "text"
      },
      "source": [
        "<a href=\"https://colab.research.google.com/github/evgeny-kolonsky/jupyterhub/blob/main/Hello_world.ipynb\" target=\"_parent\"><img src=\"https://colab.research.google.com/assets/colab-badge.svg\" alt=\"Open In Colab\"/></a>"
      ]
    },
    {
      "cell_type": "markdown",
      "source": [
        "# A simple lab manual"
      ],
      "metadata": {
        "id": "EpJ7Z5oFZDMa"
      }
    },
    {
      "cell_type": "markdown",
      "source": [
        "Press Shift+Enter in the cell below"
      ],
      "metadata": {
        "id": "pfRQtK-vZNN8"
      }
    },
    {
      "cell_type": "code",
      "execution_count": null,
      "metadata": {
        "id": "09AXHH_oY-X-"
      },
      "outputs": [],
      "source": [
        "2+2"
      ]
    }
  ]
}